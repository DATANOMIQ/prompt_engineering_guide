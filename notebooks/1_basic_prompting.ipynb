{
 "cells": [
  {
   "cell_type": "code",
   "execution_count": 1,
   "id": "3b39920a",
   "metadata": {},
   "outputs": [
    {
     "name": "stdout",
     "output_type": "stream",
     "text": [
      "WORKSHOP SECTION 1: BASIC PROMPTING\n",
      "==================================================\n"
     ]
    },
    {
     "ename": "NameError",
     "evalue": "name 'pe_demo' is not defined",
     "output_type": "error",
     "traceback": [
      "\u001b[31m---------------------------------------------------------------------------\u001b[39m",
      "\u001b[31mNameError\u001b[39m                                 Traceback (most recent call last)",
      "\u001b[36mCell\u001b[39m\u001b[36m \u001b[39m\u001b[32mIn[1]\u001b[39m\u001b[32m, line 40\u001b[39m\n\u001b[32m     37\u001b[39m         pe_demo.display_result(user_input, response, \u001b[33m\"\u001b[39m\u001b[33mYour Basic Prompt\u001b[39m\u001b[33m\"\u001b[39m)\n\u001b[32m     39\u001b[39m \u001b[38;5;66;03m# Run the demonstration\u001b[39;00m\n\u001b[32m---> \u001b[39m\u001b[32m40\u001b[39m \u001b[43mdemonstrate_basic_prompting\u001b[49m\u001b[43m(\u001b[49m\u001b[43m)\u001b[49m\n",
      "\u001b[36mCell\u001b[39m\u001b[36m \u001b[39m\u001b[32mIn[1]\u001b[39m\u001b[32m, line 12\u001b[39m, in \u001b[36mdemonstrate_basic_prompting\u001b[39m\u001b[34m()\u001b[39m\n\u001b[32m      9\u001b[39m basic_prompt = \u001b[33m\"\u001b[39m\u001b[33mThe sky is\u001b[39m\u001b[33m\"\u001b[39m\n\u001b[32m     10\u001b[39m messages = [{\u001b[33m\"\u001b[39m\u001b[33mrole\u001b[39m\u001b[33m\"\u001b[39m: \u001b[33m\"\u001b[39m\u001b[33muser\u001b[39m\u001b[33m\"\u001b[39m, \u001b[33m\"\u001b[39m\u001b[33mcontent\u001b[39m\u001b[33m\"\u001b[39m: basic_prompt}]\n\u001b[32m---> \u001b[39m\u001b[32m12\u001b[39m response = \u001b[43mpe_demo\u001b[49m.get_completion(messages, temperature=\u001b[32m0.1\u001b[39m)\n\u001b[32m     13\u001b[39m pe_demo.display_result(basic_prompt, response, \u001b[33m\"\u001b[39m\u001b[33mBasic Text Completion\u001b[39m\u001b[33m\"\u001b[39m)\n\u001b[32m     15\u001b[39m \u001b[38;5;66;03m# Example 2: Story beginning\u001b[39;00m\n",
      "\u001b[31mNameError\u001b[39m: name 'pe_demo' is not defined"
     ]
    }
   ],
   "source": [
    "def demonstrate_basic_prompting():\n",
    "    \"\"\"\n",
    "    Demonstrate the most basic form of prompting - text completion\n",
    "    \"\"\"\n",
    "    print(\"WORKSHOP SECTION 1: BASIC PROMPTING\")\n",
    "    print(\"=\" * 50)\n",
    "    \n",
    "    # Example 1: Simple text completion\n",
    "    basic_prompt = \"The sky is\"\n",
    "    messages = [{\"role\": \"user\", \"content\": basic_prompt}]\n",
    "    \n",
    "    response = pe_demo.get_completion(messages, temperature=0.1)\n",
    "    pe_demo.display_result(basic_prompt, response, \"Basic Text Completion\")\n",
    "    \n",
    "    # Example 2: Story beginning\n",
    "    story_prompt = \"Once upon a time, in a distant galaxy\"\n",
    "    messages = [{\"role\": \"user\", \"content\": story_prompt}]\n",
    "    \n",
    "    response = pe_demo.get_completion(messages, temperature=0.8, max_tokens=150)\n",
    "    pe_demo.display_result(story_prompt, response, \"Creative Text Generation\")\n",
    "    \n",
    "    # Example 3: Technical topic starter\n",
    "    tech_prompt = \"Machine learning algorithms can be categorized into\"\n",
    "    messages = [{\"role\": \"user\", \"content\": tech_prompt}]\n",
    "    \n",
    "    response = pe_demo.get_completion(messages, temperature=0.3)\n",
    "    pe_demo.display_result(tech_prompt, response, \"Technical Text Completion\")\n",
    "    \n",
    "    # Interactive demonstration\n",
    "    print(\"\\n🔬 INTERACTIVE DEMO: Try your own basic prompts!\")\n",
    "    print(\"Enter a prompt fragment (or 'skip' to continue):\")\n",
    "    \n",
    "    user_input = input(\"> \")\n",
    "    if user_input.lower() != 'skip':\n",
    "        messages = [{\"role\": \"user\", \"content\": user_input}]\n",
    "        response = pe_demo.get_completion(messages)\n",
    "        pe_demo.display_result(user_input, response, \"Your Basic Prompt\")\n",
    "\n",
    "# Run the demonstration\n",
    "demonstrate_basic_prompting()"
   ]
  }
 ],
 "metadata": {
  "kernelspec": {
   "display_name": "ai_material",
   "language": "python",
   "name": "python3"
  },
  "language_info": {
   "codemirror_mode": {
    "name": "ipython",
    "version": 3
   },
   "file_extension": ".py",
   "mimetype": "text/x-python",
   "name": "python",
   "nbconvert_exporter": "python",
   "pygments_lexer": "ipython3",
   "version": "3.11.9"
  }
 },
 "nbformat": 4,
 "nbformat_minor": 5
}
